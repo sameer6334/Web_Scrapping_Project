{
 "cells": [
  {
   "cell_type": "code",
   "execution_count": 67,
   "id": "e290d082-79e9-470f-a53b-dcd6191ebd31",
   "metadata": {},
   "outputs": [],
   "source": [
    "import requests\n",
    "from bs4 import BeautifulSoup as bs\n",
    "from urllib.request import urlopen\n",
    "import logging"
   ]
  },
  {
   "cell_type": "code",
   "execution_count": 68,
   "id": "c7bbcdf6-87a9-4d06-8584-8045580852dc",
   "metadata": {},
   "outputs": [],
   "source": [
    "flipkart_url = \"https://www.flipkart.com/search?q=\" + \"iphone16\""
   ]
  },
  {
   "cell_type": "code",
   "execution_count": 69,
   "id": "dad91cde-dc6c-4dea-8f63-59b738ed9402",
   "metadata": {},
   "outputs": [
    {
     "data": {
      "text/plain": [
       "'https://www.flipkart.com/search?q=iphone16'"
      ]
     },
     "execution_count": 69,
     "metadata": {},
     "output_type": "execute_result"
    }
   ],
   "source": [
    "flipkart_url"
   ]
  },
  {
   "cell_type": "code",
   "execution_count": 70,
   "id": "b3b2d546-dda2-4dcc-9d6f-7e57aa1b45d3",
   "metadata": {},
   "outputs": [
    {
     "data": {
      "text/plain": [
       "'https://www.flipkart.com/search?q=iphone15promax'"
      ]
     },
     "execution_count": 70,
     "metadata": {},
     "output_type": "execute_result"
    }
   ],
   "source": [
    "flipkart_url = \"https://www.flipkart.com/search?q=\" + \"iphone15promax\"\n",
    "flipkart_url"
   ]
  },
  {
   "cell_type": "code",
   "execution_count": 71,
   "id": "0b3fd800-d248-4ec6-8afb-d7a5ce8a7cfd",
   "metadata": {},
   "outputs": [
    {
     "data": {
      "text/plain": [
       "'https://www.flipkart.com/search?q=tv'"
      ]
     },
     "execution_count": 71,
     "metadata": {},
     "output_type": "execute_result"
    }
   ],
   "source": [
    "flipkart_url = \"https://www.flipkart.com/search?q=\" + \"tv\"\n",
    "flipkart_url"
   ]
  },
  {
   "cell_type": "code",
   "execution_count": 72,
   "id": "413e7d5f-cf67-4bcc-ad04-d3b80a8cbb7a",
   "metadata": {},
   "outputs": [],
   "source": [
    "url_client = urlopen(flipkart_url)"
   ]
  },
  {
   "cell_type": "code",
   "execution_count": 73,
   "id": "597ddb77-9a52-4542-a0ff-6f7e9bb658e4",
   "metadata": {},
   "outputs": [],
   "source": [
    "flipkart_page = url_client.read()"
   ]
  },
  {
   "cell_type": "code",
   "execution_count": 74,
   "id": "73ec43b9-85bf-4cd4-b6dc-a7ebc2b67f4b",
   "metadata": {},
   "outputs": [],
   "source": [
    "flipkart_html = bs(flipkart_page,\"html.parser\")\n"
   ]
  },
  {
   "cell_type": "code",
   "execution_count": 75,
   "id": "917250cd-2639-4cfa-a2f2-a6898a9458ef",
   "metadata": {},
   "outputs": [
    {
     "data": {
      "text/plain": [
       "'https://www.flipkart.com/samsung-crystal-4k-infinity-vision-108-cm-43-inch-ultra-hd-4k-led-smart-tizen-tv-2025-upscaling-hdr-10-voice-assistance-remote-control-purcolor-slim-look-knox-security-100-free-channels-universal-gestures/p/itm4c86e964ab2f9?pid=TVSHBCDQJGP8WKYT&lid=LSTTVSHBCDQJGP8WKYTLVBDFA&marketplace=FLIPKART&q=tv&store=ckf%2Fczl&srno=s_1_1&otracker=search&fm=organic&iid=en_pCXnNkv1H3zfPZpNsQL1gyKPe_9ILdLvSvM_ZmKrikhAJv9z0HUrLYhWGWEi2ftP0gfZ5Rq1r6l6aRfxP-O3A_UFjCTyOHoHZs-Z5_PS_w0%3D&ppt=None&ppn=None&ssid=camcvwj3ww0000001759607523785&qH=c9a1fdac6e082dd8'"
      ]
     },
     "execution_count": 75,
     "metadata": {},
     "output_type": "execute_result"
    }
   ],
   "source": [
    "\"https://www.flipkart.com\" + \"/samsung-crystal-4k-infinity-vision-108-cm-43-inch-ultra-hd-4k-led-smart-tizen-tv-2025-upscaling-hdr-10-voice-assistance-remote-control-purcolor-slim-look-knox-security-100-free-channels-universal-gestures/p/itm4c86e964ab2f9?pid=TVSHBCDQJGP8WKYT&lid=LSTTVSHBCDQJGP8WKYTLVBDFA&marketplace=FLIPKART&q=tv&store=ckf%2Fczl&srno=s_1_1&otracker=search&fm=organic&iid=en_pCXnNkv1H3zfPZpNsQL1gyKPe_9ILdLvSvM_ZmKrikhAJv9z0HUrLYhWGWEi2ftP0gfZ5Rq1r6l6aRfxP-O3A_UFjCTyOHoHZs-Z5_PS_w0%3D&ppt=None&ppn=None&ssid=camcvwj3ww0000001759607523785&qH=c9a1fdac6e082dd8\""
   ]
  },
  {
   "cell_type": "code",
   "execution_count": 76,
   "id": "d6b23a79-76c3-4dc6-8836-c511843c7d8c",
   "metadata": {},
   "outputs": [],
   "source": [
    "bigbox = flipkart_html.find_all(\"div\",{\"class\" : \"cPHDOP col-12-12\"})\n",
    "#returning a list having all div classes\n"
   ]
  },
  {
   "cell_type": "code",
   "execution_count": 77,
   "id": "c52867f5-4753-4612-bf2f-4fefa357be8a",
   "metadata": {},
   "outputs": [
    {
     "data": {
      "text/plain": [
       "30"
      ]
     },
     "execution_count": 77,
     "metadata": {},
     "output_type": "execute_result"
    }
   ],
   "source": [
    "len(bigbox)"
   ]
  },
  {
   "cell_type": "code",
   "execution_count": 78,
   "id": "a1fdcd39-5a1b-4ad0-9eda-29d9b86e97cb",
   "metadata": {},
   "outputs": [],
   "source": [
    "del bigbox[0:3]"
   ]
  },
  {
   "cell_type": "code",
   "execution_count": 79,
   "id": "6bdea506-c060-4f3a-8b37-21dff565a7f2",
   "metadata": {},
   "outputs": [
    {
     "data": {
      "text/plain": [
       "27"
      ]
     },
     "execution_count": 79,
     "metadata": {},
     "output_type": "execute_result"
    }
   ],
   "source": [
    "len(bigbox)"
   ]
  },
  {
   "cell_type": "code",
   "execution_count": 80,
   "id": "e9d9546a-7e32-42ca-8d03-8e29439e3c9b",
   "metadata": {},
   "outputs": [],
   "source": [
    "productlink = \"https://www.flipkart.com\" + bigbox[0].div.div.div.a['href']"
   ]
  },
  {
   "cell_type": "code",
   "execution_count": 81,
   "id": "e4562091-41ae-4959-a214-44a367f6ae78",
   "metadata": {},
   "outputs": [
    {
     "name": "stdout",
     "output_type": "stream",
     "text": [
      "https://www.flipkart.com/samsung-crystal-4k-vista-108-cm-43-inch-ultra-hd-4k-led-smart-tizen-tv-2025-upscaling-hdr-10-purcolor-slim-look-knox-security-100-free-channels-voice-ready-smartthings-app-universal-gestures/p/itma6d9638b98c87?pid=TVSHBCDQGHZKDQHN&lid=LSTTVSHBCDQGHZKDQHNGHFWC0&marketplace=FLIPKART&q=tv&store=ckf%2Fczl&srno=s_1_2&otracker=search&fm=organic&iid=en_Ha0Xjuh-BslyIesnCcipwskT7VAkU8ASkWM5Y4a3pkejKLlrQ1GXzBbw76sDCCfm0xz098XufY-BB5WVPRgt8PUFjCTyOHoHZs-Z5_PS_w0%3D&ppt=None&ppn=None&ssid=0nw9k1ghuo0000001759610505144&qH=c9a1fdac6e082dd8\n",
      "https://www.flipkart.com/samsung-80-cm-32-inch-hd-ready-led-smart-tizen-tv-2025-voice-assistance-remote-control-100-free-channels-hdr-10-support-purcolor-knox-security-digital-tuner-object-tracking-sound-lite-adaptive-q-symphony/p/itm46f9a52992ace?pid=TVSHBCHTKTHN5GSM&lid=LSTTVSHBCHTKTHN5GSMGAFQ6R&marketplace=FLIPKART&q=tv&store=ckf%2Fczl&spotlightTagId=default_FkPickId_ckf%2Fczl&srno=s_1_3&otracker=search&fm=organic&iid=d771edfe-d659-4e48-a645-d6e98f0f0435.TVSHBCHTKTHN5GSM.SEARCH&ppt=None&ppn=None&ssid=0nw9k1ghuo0000001759610505144&qH=c9a1fdac6e082dd8\n",
      "https://www.flipkart.com/tcl-t6c-139-cm-55-inch-qled-ultra-hd-4k-smart-google-tv-2025-hdr-10-dolby-vision-atmos-24w-120-hz-game-accelerator-dlg-metallic-bezel-less/p/itm003e55d4c2417?pid=TVSHAVHGJEZZCATB&lid=LSTTVSHAVHGJEZZCATBIHLT7C&marketplace=FLIPKART&q=tv&store=ckf%2Fczl&srno=s_1_4&otracker=search&fm=organic&iid=d771edfe-d659-4e48-a645-d6e98f0f0435.TVSHAVHGJEZZCATB.SEARCH&ppt=None&ppn=None&ssid=0nw9k1ghuo0000001759610505144&qH=c9a1fdac6e082dd8\n",
      "https://www.flipkart.com/motorola-80-cm-32-inch-qled-hd-ready-smart-google-tv-2025/p/itm247d6554b407b?pid=TVSHC5F6TMNNUVXM&lid=LSTTVSHC5F6TMNNUVXMGGSM1Z&marketplace=FLIPKART&q=tv&store=ckf%2Fczl&srno=s_1_5&otracker=search&fm=organic&iid=en_Ha0Xjuh-BslyIesnCcipwskT7VAkU8ASkWM5Y4a3pkcXhLKnUoQS5F51SnduRyhJ5KFU11w_yQPYP7-FK1N96H3Gaq_wzx4HJysDmGalzMk%3D&ppt=None&ppn=None&ssid=0nw9k1ghuo0000001759610505144&qH=c9a1fdac6e082dd8\n",
      "https://www.flipkart.com/skylive-109-22-cm-43-inch-full-hd-led-smart-android-based-tv-inches-bezel-less-sl43pro-sl6300sqld-2024-model/p/itm042d6f0b65b5a?pid=TVSGX9X2USHVUCS9&lid=LSTTVSGX9X2USHVUCS9DMUS5G&marketplace=FLIPKART&q=tv&store=ckf%2Fczl&srno=s_1_6&otracker=search&fm=organic&iid=en_Ha0Xjuh-BslyIesnCcipwskT7VAkU8ASkWM5Y4a3pkdYvCqjpgUneKqWDi4EfltcpeRKxX4H5d35M1RMA7yfDg%3D%3D&ppt=None&ppn=None&ssid=0nw9k1ghuo0000001759610505144&qH=c9a1fdac6e082dd8\n",
      "https://www.flipkart.com/tcl-t6c-108-cm-43-inch-qled-ultra-hd-4k-smart-google-tv-2025-hdr10-dolby-vision-atmos-hva-panel-slim-uni-body-design/p/itmf9960822a69a0?pid=TVSHAVHGHHAFRU8F&lid=LSTTVSHAVHGHHAFRU8FKPO8AJ&marketplace=FLIPKART&q=tv&store=ckf%2Fczl&srno=s_1_7&otracker=search&fm=organic&iid=d771edfe-d659-4e48-a645-d6e98f0f0435.TVSHAVHGHHAFRU8F.SEARCH&ppt=None&ppn=None&ssid=0nw9k1ghuo0000001759610505144&qH=c9a1fdac6e082dd8\n",
      "https://www.flipkart.com/lg-lr570-80-cm-32-inch-hd-ready-led-smart-webos-tv-2025-alpha5-gen-6-ai-processor-100-free-channels-brightness-control-sound-virtual-surround-5-1-up-mix-fta-satellite-port-magic-remote-compatible-60hz-refresh-rate-alexa-built-works-hey-google/p/itm9c22d06d514d0?pid=TVSH9RMF8YPHSHA3&lid=LSTTVSH9RMF8YPHSHA3TJDN12&marketplace=FLIPKART&q=tv&store=ckf%2Fczl&srno=s_1_8&otracker=search&fm=organic&iid=d771edfe-d659-4e48-a645-d6e98f0f0435.TVSH9RMF8YPHSHA3.SEARCH&ppt=None&ppn=None&ssid=0nw9k1ghuo0000001759610505144&qH=c9a1fdac6e082dd8\n",
      "https://www.flipkart.com/tcl-v5c-80-cm-32-inch-qled-full-hd-smart-google-tv-2025-100-color-volume-plus-24w-dolby-audio-assitant-chromecast-built-in-slim-design/p/itm079a0d6ef08c7?pid=TVSHAFUFSMGNT7JX&lid=LSTTVSHAFUFSMGNT7JXCDMY3R&marketplace=FLIPKART&q=tv&store=ckf%2Fczl&srno=s_1_9&otracker=search&fm=organic&iid=d771edfe-d659-4e48-a645-d6e98f0f0435.TVSHAFUFSMGNT7JX.SEARCH&ppt=None&ppn=None&ssid=0nw9k1ghuo0000001759610505144&qH=c9a1fdac6e082dd8\n",
      "https://www.flipkart.com/iffalcon-tcl-u65-138-cm-55-inch-ultra-hd-4k-led-smart-google-tv-2025-memc-dolby-vision-atmos-hva-panel-metallic-bezel-less/p/itm1ce4c7b82d0fe?pid=TVSHAVHGZQE32Z8J&lid=LSTTVSHAVHGZQE32Z8JFVEQJI&marketplace=FLIPKART&q=tv&store=ckf%2Fczl&srno=s_1_10&otracker=search&fm=organic&iid=d771edfe-d659-4e48-a645-d6e98f0f0435.TVSHAVHGZQE32Z8J.SEARCH&ppt=None&ppn=None&ssid=0nw9k1ghuo0000001759610505144&qH=c9a1fdac6e082dd8\n",
      "https://www.flipkart.com/samsung-crystal-4k-infinity-vision-125-cm-50-inch-ultra-hd-4k-led-smart-tizen-tv-2025-upscaling-hdr-10-voice-assistance-remote-control-purcolor-slim-look-knox-security-100-free-channels-universal-gestures/p/itm176c50e515dc3?pid=TVSHBCDQYSGHZZYQ&lid=LSTTVSHBCDQYSGHZZYQHJY8N4&marketplace=FLIPKART&q=tv&store=ckf%2Fczl&srno=s_1_11&otracker=search&fm=organic&iid=en_Ha0Xjuh-BslyIesnCcipwskT7VAkU8ASkWM5Y4a3pkePAB-QPIbp7cHiZfuWYpOWK4bWnRrCB81cHoLDyzvqPmaRs4JL222ZRV-dN99QnxU%3D&ppt=None&ppn=None&ssid=0nw9k1ghuo0000001759610505144&qH=c9a1fdac6e082dd8\n",
      "https://www.flipkart.com/realme-techlife-139-cm-55-inch-ultra-hd-4k-led-smart-google-tv-2025/p/itm5e6333ceda8d3?pid=TVSHD842GJHM2C2Z&lid=LSTTVSHD842GJHM2C2ZPY4XLC&marketplace=FLIPKART&q=tv&store=ckf%2Fczl&srno=s_1_12&otracker=search&fm=organic&iid=en_Ha0Xjuh-BslyIesnCcipwskT7VAkU8ASkWM5Y4a3pkdKEnuAsIhJMGn_lyR8TW1NUWVwCD9nBR65pzqgw6SJQq8iqbiwhGf4dwbXVx7ZSks%3D&ppt=None&ppn=None&ssid=0nw9k1ghuo0000001759610505144&qH=c9a1fdac6e082dd8\n",
      "https://www.flipkart.com/xiaomi-mi-f-series-108-cm-43-inch-ultra-hd-4k-led-smart-fire-tv-2025-dolby-audio-box-speakers-alexa-32gb-storage-filmmaker-mode/p/itme39b7c9760689?pid=TVSHAVSFGEUJAK9U&lid=LSTTVSHAVSFGEUJAK9UWFABQR&marketplace=FLIPKART&q=tv&store=ckf%2Fczl&srno=s_1_13&otracker=search&fm=organic&iid=d771edfe-d659-4e48-a645-d6e98f0f0435.TVSHAVSFGEUJAK9U.SEARCH&ppt=None&ppn=None&ssid=0nw9k1ghuo0000001759610505144&qH=c9a1fdac6e082dd8\n",
      "https://www.flipkart.com/realme-techlife-139-cm-55-inch-qled-ultra-hd-4k-smart-google-tv-2025/p/itmfa7830876d66e?pid=TVSHD842KYW2DR9S&lid=LSTTVSHD842KYW2DR9S6BWDAP&marketplace=FLIPKART&q=tv&store=ckf%2Fczl&srno=s_1_14&otracker=search&fm=organic&iid=d771edfe-d659-4e48-a645-d6e98f0f0435.TVSHD842KYW2DR9S.SEARCH&ppt=None&ppn=None&ssid=0nw9k1ghuo0000001759610505144&qH=c9a1fdac6e082dd8\n",
      "https://www.flipkart.com/iffalcon-tcl-u65-164-cm-65-inch-ultra-hd-4k-led-smart-google-tv-2025-memc-dolby-vision-atmos-hva-panel-metallic-bezel-less/p/itmb4148036003d8?pid=TVSHAVHGHPFD5BXB&lid=LSTTVSHAVHGHPFD5BXBXA9M8L&marketplace=FLIPKART&q=tv&store=ckf%2Fczl&srno=s_1_15&otracker=search&fm=organic&iid=d771edfe-d659-4e48-a645-d6e98f0f0435.TVSHAVHGHPFD5BXB.SEARCH&ppt=None&ppn=None&ssid=0nw9k1ghuo0000001759610505144&qH=c9a1fdac6e082dd8\n",
      "https://www.flipkart.com/realme-techlife-109-cm-43-inch-qled-ultra-hd-4k-smart-google-tv-2025-5-0-dolby-atmos-40-w-downfiring-speaker/p/itm7b1d163bd089b?pid=TVSHAEW6F2BC3R4S&lid=LSTTVSHAEW6F2BC3R4SNMECXC&marketplace=FLIPKART&q=tv&store=ckf%2Fczl&srno=s_1_16&otracker=search&fm=organic&iid=d771edfe-d659-4e48-a645-d6e98f0f0435.TVSHAEW6F2BC3R4S.SEARCH&ppt=None&ppn=None&ssid=0nw9k1ghuo0000001759610505144&qH=c9a1fdac6e082dd8\n",
      "https://www.flipkart.com/realme-techlife-109-cm-43-inch-ultra-hd-4k-led-smart-google-tv-2025-5-0-dolby-audio-40-w-downfiring-speaker/p/itma004a808effd9?pid=TVSHAEW6FGZKQ2AP&lid=LSTTVSHAEW6FGZKQ2APLSV0NR&marketplace=FLIPKART&q=tv&store=ckf%2Fczl&srno=s_1_17&otracker=search&fm=organic&iid=en_Ha0Xjuh-BslyIesnCcipwskT7VAkU8ASkWM5Y4a3pkebYgGh4Mz5fzAZ9So2npRxUye2UEB6l8-B17iD8sS0uMsrgPW5YLzJU0_H6_RHKR0%3D&ppt=None&ppn=None&ssid=0nw9k1ghuo0000001759610505144&qH=c9a1fdac6e082dd8\n",
      "https://www.flipkart.com/xiaomi-mi-fx-pro-108-cm-43-inch-qled-ultra-hd-4k-smart-fire-tv-2025-alexa-built-in-hdr-10-32-gb-storage-30w-dolby-audio-premium-metal-bezel-less-design-film-maker-mode/p/itm71776104b10f4?pid=TVSHBPGHRNAPJKTD&lid=LSTTVSHBPGHRNAPJKTD0NKGRJ&marketplace=FLIPKART&q=tv&store=ckf%2Fczl&srno=s_1_18&otracker=search&fm=organic&iid=en_Ha0Xjuh-BslyIesnCcipwskT7VAkU8ASkWM5Y4a3pke4gVuamSDNoH0WAJTjzHRCjKvEZsKe9dB4omlqzBlogsDbPjpExlWhmpgUQnOg2ao%3D&ppt=None&ppn=None&ssid=0nw9k1ghuo0000001759610505144&qH=c9a1fdac6e082dd8\n",
      "https://www.flipkart.com/sony-bravia-2-ii-138-8-cm-55-inch-ultra-hd-4k-led-smart-google-tv-2025/p/itm170167561d8cd?pid=TVSHBYPVKBF9EK74&lid=LSTTVSHBYPVKBF9EK74W689D5&marketplace=FLIPKART&q=tv&store=ckf%2Fczl&srno=s_1_19&otracker=search&fm=organic&iid=d771edfe-d659-4e48-a645-d6e98f0f0435.TVSHBYPVKBF9EK74.SEARCH&ppt=None&ppn=None&ssid=0nw9k1ghuo0000001759610505144&qH=c9a1fdac6e082dd8\n",
      "https://www.flipkart.com/realme-techlife-80-cm-32-inch-qled-hd-ready-smart-google-tv-2025/p/itm5703931060ce7?pid=TVSHC5F6VHRWC5DY&lid=LSTTVSHC5F6VHRWC5DYLBMAMS&marketplace=FLIPKART&q=tv&store=ckf%2Fczl&srno=s_1_20&otracker=search&fm=organic&iid=d771edfe-d659-4e48-a645-d6e98f0f0435.TVSHC5F6VHRWC5DY.SEARCH&ppt=None&ppn=None&ssid=0nw9k1ghuo0000001759610505144&qH=c9a1fdac6e082dd8\n",
      "https://www.flipkart.com/motorola-109-cm-43-inch-qled-ultra-hd-4k-smart-google-tv-2025-5-0-48-w-speaker-120hz-game-accelerator-dolby-atmos/p/itmd23d04ed69cb7?pid=TVSHA753PFXNSQTK&lid=LSTTVSHA753PFXNSQTK6XMWEN&marketplace=FLIPKART&q=tv&store=ckf%2Fczl&srno=s_1_21&otracker=search&fm=organic&iid=en_Ha0Xjuh-BslyIesnCcipwskT7VAkU8ASkWM5Y4a3pkdGIXsVNZtPmVe1HAanOTEdpPJBUWDjh88lijbhJEbzu2JMZAJirnjvZRqZ0WhE16A%3D&ppt=None&ppn=None&ssid=0nw9k1ghuo0000001759610505144&qH=c9a1fdac6e082dd8\n",
      "https://www.flipkart.com/skylive-101-6-cm-40-inch-full-hd-led-smart-android-based-tv-inches-bezel-less-sl40pro-sl5000-2024-model/p/itm4d0a6cb75866f?pid=TVSGX9RFRYGEXEGE&lid=LSTTVSGX9RFRYGEXEGELKWXXU&marketplace=FLIPKART&q=tv&store=ckf%2Fczl&srno=s_1_22&otracker=search&fm=organic&iid=en_Ha0Xjuh-BslyIesnCcipwskT7VAkU8ASkWM5Y4a3pkdPaKYl8n28hK0d2Tx8YIupi86kA2XZIcadfjZl89t0Lw%3D%3D&ppt=None&ppn=None&ssid=0nw9k1ghuo0000001759610505144&qH=c9a1fdac6e082dd8\n",
      "https://www.flipkart.com/sony-bravia-2-ii-108-cm-43-inch-ultra-hd-4k-led-smart-google-tv-2025/p/itm7250dd4c0839d?pid=TVSHBYPVRKUVGNGM&lid=LSTTVSHBYPVRKUVGNGMIOFD8Z&marketplace=FLIPKART&q=tv&store=ckf%2Fczl&srno=s_1_23&otracker=search&fm=organic&iid=d771edfe-d659-4e48-a645-d6e98f0f0435.TVSHBYPVRKUVGNGM.SEARCH&ppt=None&ppn=None&ssid=0nw9k1ghuo0000001759610505144&qH=c9a1fdac6e082dd8\n",
      "https://www.flipkart.com/xiaomi-g-series-80-cm-32-inch-qled-hd-ready-smart-google-tv-2025-dolby-audio-wide-colour-gamut-bezel-less-design-assistant/p/itmd36b6f9948d57?pid=TVSHCZC4AXY3RNVN&lid=LSTTVSHCZC4AXY3RNVNK3XUTT&marketplace=FLIPKART&q=tv&store=ckf%2Fczl&srno=s_1_24&otracker=search&fm=organic&iid=d771edfe-d659-4e48-a645-d6e98f0f0435.TVSHCZC4AXY3RNVN.SEARCH&ppt=None&ppn=None&ssid=0nw9k1ghuo0000001759610505144&qH=c9a1fdac6e082dd8\n"
     ]
    },
    {
     "ename": "AttributeError",
     "evalue": "'NoneType' object has no attribute 'a'",
     "output_type": "error",
     "traceback": [
      "\u001b[1;31m---------------------------------------------------------------------------\u001b[0m",
      "\u001b[1;31mAttributeError\u001b[0m                            Traceback (most recent call last)",
      "Cell \u001b[1;32mIn[81], line 2\u001b[0m\n\u001b[0;32m      1\u001b[0m \u001b[38;5;28;01mfor\u001b[39;00m i \u001b[38;5;129;01min\u001b[39;00m bigbox:\n\u001b[1;32m----> 2\u001b[0m    \u001b[38;5;28mprint\u001b[39m(\u001b[38;5;124m\"\u001b[39m\u001b[38;5;124mhttps://www.flipkart.com\u001b[39m\u001b[38;5;124m\"\u001b[39m \u001b[38;5;241m+\u001b[39m i\u001b[38;5;241m.\u001b[39mdiv\u001b[38;5;241m.\u001b[39mdiv\u001b[38;5;241m.\u001b[39mdiv\u001b[38;5;241m.\u001b[39ma[\u001b[38;5;124m'\u001b[39m\u001b[38;5;124mhref\u001b[39m\u001b[38;5;124m'\u001b[39m])\n",
      "\u001b[1;31mAttributeError\u001b[0m: 'NoneType' object has no attribute 'a'"
     ]
    }
   ],
   "source": [
    "for i in bigbox:\n",
    "   print(\"https://www.flipkart.com\" + i.div.div.div.a['href']) "
   ]
  },
  {
   "cell_type": "code",
   "execution_count": 82,
   "id": "c1d02b78-4e09-4d98-9172-620bee69913d",
   "metadata": {},
   "outputs": [
    {
     "data": {
      "text/plain": [
       "'https://www.flipkart.com/samsung-crystal-4k-vista-108-cm-43-inch-ultra-hd-4k-led-smart-tizen-tv-2025-upscaling-hdr-10-purcolor-slim-look-knox-security-100-free-channels-voice-ready-smartthings-app-universal-gestures/p/itma6d9638b98c87?pid=TVSHBCDQGHZKDQHN&lid=LSTTVSHBCDQGHZKDQHNGHFWC0&marketplace=FLIPKART&q=tv&store=ckf%2Fczl&srno=s_1_2&otracker=search&fm=organic&iid=en_Ha0Xjuh-BslyIesnCcipwskT7VAkU8ASkWM5Y4a3pkejKLlrQ1GXzBbw76sDCCfm0xz098XufY-BB5WVPRgt8PUFjCTyOHoHZs-Z5_PS_w0%3D&ppt=None&ppn=None&ssid=0nw9k1ghuo0000001759610505144&qH=c9a1fdac6e082dd8'"
      ]
     },
     "execution_count": 82,
     "metadata": {},
     "output_type": "execute_result"
    }
   ],
   "source": [
    "productlink"
   ]
  },
  {
   "cell_type": "code",
   "execution_count": 111,
   "id": "fef70c0f-7c33-4376-bc2e-700c3f05a3a9",
   "metadata": {},
   "outputs": [],
   "source": [
    "product_open = urlopen(productlink)"
   ]
  },
  {
   "cell_type": "code",
   "execution_count": 112,
   "id": "c0ffce52-d642-4752-a706-42e03d10367d",
   "metadata": {},
   "outputs": [],
   "source": [
    "product_req = product_open.read()"
   ]
  },
  {
   "cell_type": "code",
   "execution_count": 114,
   "id": "c4eb8ae8-2f36-4a02-92a2-f214cfe4e3ce",
   "metadata": {},
   "outputs": [],
   "source": [
    "product_html = bs(product_req,\"html.parser\")"
   ]
  },
  {
   "cell_type": "code",
   "execution_count": 125,
   "id": "a202be42-ac1b-464f-9803-6115b8823ff3",
   "metadata": {},
   "outputs": [],
   "source": [
    "comment_box = product_html.find_all(\"div\",{\"class\" : \"RcXBOT\"})"
   ]
  },
  {
   "cell_type": "code",
   "execution_count": 126,
   "id": "58a165b7-b38d-4fe9-b499-7bc6f217dab8",
   "metadata": {},
   "outputs": [
    {
     "data": {
      "text/plain": [
       "11"
      ]
     },
     "execution_count": 126,
     "metadata": {},
     "output_type": "execute_result"
    }
   ],
   "source": [
    "len(comment_box)"
   ]
  },
  {
   "cell_type": "code",
   "execution_count": 128,
   "id": "c6484283-1568-48cd-af05-6818ee18e734",
   "metadata": {},
   "outputs": [
    {
     "data": {
      "text/plain": [
       "[<p class=\"_2NsDsF AwS1CA\">avinash kumar</p>]"
      ]
     },
     "execution_count": 128,
     "metadata": {},
     "output_type": "execute_result"
    }
   ],
   "source": [
    "comment_box[1].find_all(\"p\", {\"class\" : \"_2NsDsF AwS1CA\"})"
   ]
  },
  {
   "cell_type": "code",
   "execution_count": 129,
   "id": "a7d64a2a-7f42-41b6-95c1-b831d41c73f0",
   "metadata": {},
   "outputs": [
    {
     "data": {
      "text/plain": [
       "[<p class=\"_2NsDsF AwS1CA\">Flipkart Customer</p>]"
      ]
     },
     "execution_count": 129,
     "metadata": {},
     "output_type": "execute_result"
    }
   ],
   "source": [
    "comment_box[0].find_all(\"p\", {\"class\": \"_2NsDsF AwS1CA\"})\n"
   ]
  },
  {
   "cell_type": "code",
   "execution_count": 130,
   "id": "a3fb2cc7-7c61-4bf4-bf59-9b6875f4dab6",
   "metadata": {},
   "outputs": [
    {
     "data": {
      "text/plain": [
       "<p class=\"_2NsDsF AwS1CA\">Flipkart Customer</p>"
      ]
     },
     "execution_count": 130,
     "metadata": {},
     "output_type": "execute_result"
    }
   ],
   "source": [
    "comment_box[0].find_all(\"p\", {\"class\": \"_2NsDsF AwS1CA\"})[0]\n"
   ]
  },
  {
   "cell_type": "code",
   "execution_count": 131,
   "id": "32871428-330a-4180-883d-037b24a071df",
   "metadata": {},
   "outputs": [
    {
     "data": {
      "text/plain": [
       "'Flipkart Customer'"
      ]
     },
     "execution_count": 131,
     "metadata": {},
     "output_type": "execute_result"
    }
   ],
   "source": [
    "comment_box[0].find_all(\"p\", {\"class\": \"_2NsDsF AwS1CA\"})[0].text"
   ]
  },
  {
   "cell_type": "code",
   "execution_count": 152,
   "id": "adf4f71a-faed-44ee-b690-3e5772cc4ac5",
   "metadata": {},
   "outputs": [
    {
     "name": "stdout",
     "output_type": "stream",
     "text": [
      "Flipkart Customer\n",
      "avinash kumar\n",
      "Madhu  Nemalipuri\n",
      "Veera\n",
      "Sheikh Md Ikbal Hussain\n",
      "Choti Raj\n",
      "Rajesh Sankula\n",
      "utsav modh\n",
      "Nithin Shibu\n",
      "Vaibhav  Patil\n"
     ]
    },
    {
     "ename": "IndexError",
     "evalue": "list index out of range",
     "output_type": "error",
     "traceback": [
      "\u001b[1;31m---------------------------------------------------------------------------\u001b[0m",
      "\u001b[1;31mIndexError\u001b[0m                                Traceback (most recent call last)",
      "Cell \u001b[1;32mIn[152], line 3\u001b[0m\n\u001b[0;32m      1\u001b[0m \u001b[38;5;66;03m#fetching name of the customers who gave the review\u001b[39;00m\n\u001b[0;32m      2\u001b[0m \u001b[38;5;28;01mfor\u001b[39;00m i \u001b[38;5;129;01min\u001b[39;00m comment_box:\n\u001b[1;32m----> 3\u001b[0m     \u001b[38;5;28mprint\u001b[39m(i\u001b[38;5;241m.\u001b[39mfind_all(\u001b[38;5;124m\"\u001b[39m\u001b[38;5;124mp\u001b[39m\u001b[38;5;124m\"\u001b[39m, {\u001b[38;5;124m\"\u001b[39m\u001b[38;5;124mclass\u001b[39m\u001b[38;5;124m\"\u001b[39m: \u001b[38;5;124m\"\u001b[39m\u001b[38;5;124m_2NsDsF AwS1CA\u001b[39m\u001b[38;5;124m\"\u001b[39m})[\u001b[38;5;241m0\u001b[39m]\u001b[38;5;241m.\u001b[39mtext)\n",
      "\u001b[1;31mIndexError\u001b[0m: list index out of range"
     ]
    }
   ],
   "source": [
    "#fetching name of the customers who gave the review\n",
    "for i in comment_box:\n",
    "    print(i.find_all(\"p\", {\"class\": \"_2NsDsF AwS1CA\"})[0].text)"
   ]
  },
  {
   "cell_type": "code",
   "execution_count": 136,
   "id": "2576695e-b468-43f4-b87e-6bbc297e5e0d",
   "metadata": {},
   "outputs": [
    {
     "data": {
      "text/plain": [
       "'4'"
      ]
     },
     "execution_count": 136,
     "metadata": {},
     "output_type": "execute_result"
    }
   ],
   "source": [
    "comment_box[0].div.div.div.div.text"
   ]
  },
  {
   "cell_type": "code",
   "execution_count": 151,
   "id": "1071a6a2-2baf-46f9-9f49-540d6b2ce39f",
   "metadata": {},
   "outputs": [
    {
     "name": "stdout",
     "output_type": "stream",
     "text": [
      "4\n",
      "5\n",
      "5\n",
      "4\n",
      "5\n",
      "5\n",
      "4\n",
      "5\n",
      "5\n",
      "5\n"
     ]
    },
    {
     "ename": "AttributeError",
     "evalue": "'NoneType' object has no attribute 'div'",
     "output_type": "error",
     "traceback": [
      "\u001b[1;31m---------------------------------------------------------------------------\u001b[0m",
      "\u001b[1;31mAttributeError\u001b[0m                            Traceback (most recent call last)",
      "Cell \u001b[1;32mIn[151], line 3\u001b[0m\n\u001b[0;32m      1\u001b[0m \u001b[38;5;66;03m#fetching ratings of the product\u001b[39;00m\n\u001b[0;32m      2\u001b[0m \u001b[38;5;28;01mfor\u001b[39;00m i \u001b[38;5;129;01min\u001b[39;00m comment_box:\n\u001b[1;32m----> 3\u001b[0m     \u001b[38;5;28mprint\u001b[39m(i\u001b[38;5;241m.\u001b[39mdiv\u001b[38;5;241m.\u001b[39mdiv\u001b[38;5;241m.\u001b[39mdiv\u001b[38;5;241m.\u001b[39mdiv\u001b[38;5;241m.\u001b[39mtext)\n",
      "\u001b[1;31mAttributeError\u001b[0m: 'NoneType' object has no attribute 'div'"
     ]
    }
   ],
   "source": [
    "#fetching ratings of the product\n",
    "for i in comment_box:\n",
    "    print(i.div.div.div.div.text)"
   ]
  },
  {
   "cell_type": "code",
   "execution_count": 141,
   "id": "f09d803e-8c77-44b4-aa50-c8789fbe299c",
   "metadata": {},
   "outputs": [
    {
     "data": {
      "text/plain": [
       "'Pretty good'"
      ]
     },
     "execution_count": 141,
     "metadata": {},
     "output_type": "execute_result"
    }
   ],
   "source": [
    "comment_box[0].find_all(\"p\",{\"class\" : \"z9E0IG\"})[0].text"
   ]
  },
  {
   "cell_type": "code",
   "execution_count": 150,
   "id": "07b29f52-d170-4f36-92c1-cd155513a3aa",
   "metadata": {},
   "outputs": [
    {
     "name": "stdout",
     "output_type": "stream",
     "text": [
      "Pretty good\n",
      "Perfect product!\n",
      "Must buy!\n",
      "Good quality product\n",
      "Awesome\n",
      "Terrific\n",
      "Very Good\n",
      "Terrific\n",
      "Brilliant\n",
      "Wonderful\n"
     ]
    },
    {
     "ename": "IndexError",
     "evalue": "list index out of range",
     "output_type": "error",
     "traceback": [
      "\u001b[1;31m---------------------------------------------------------------------------\u001b[0m",
      "\u001b[1;31mIndexError\u001b[0m                                Traceback (most recent call last)",
      "Cell \u001b[1;32mIn[150], line 3\u001b[0m\n\u001b[0;32m      1\u001b[0m \u001b[38;5;66;03m#fetching the header comment of review\u001b[39;00m\n\u001b[0;32m      2\u001b[0m \u001b[38;5;28;01mfor\u001b[39;00m i \u001b[38;5;129;01min\u001b[39;00m comment_box:\n\u001b[1;32m----> 3\u001b[0m     \u001b[38;5;28mprint\u001b[39m(i\u001b[38;5;241m.\u001b[39mfind_all(\u001b[38;5;124m\"\u001b[39m\u001b[38;5;124mp\u001b[39m\u001b[38;5;124m\"\u001b[39m,{\u001b[38;5;124m\"\u001b[39m\u001b[38;5;124mclass\u001b[39m\u001b[38;5;124m\"\u001b[39m : \u001b[38;5;124m\"\u001b[39m\u001b[38;5;124mz9E0IG\u001b[39m\u001b[38;5;124m\"\u001b[39m})[\u001b[38;5;241m0\u001b[39m]\u001b[38;5;241m.\u001b[39mtext)\n",
      "\u001b[1;31mIndexError\u001b[0m: list index out of range"
     ]
    }
   ],
   "source": [
    "#fetching the header comment of review\n",
    "for i in comment_box:\n",
    "    print(i.find_all(\"p\",{\"class\" : \"z9E0IG\"})[0].text)"
   ]
  },
  {
   "cell_type": "code",
   "execution_count": 144,
   "id": "e478cc71-ee73-4bac-b2fc-4cce3d3ab86d",
   "metadata": {},
   "outputs": [
    {
     "data": {
      "text/plain": [
       "'Nice picture quality.......'"
      ]
     },
     "execution_count": 144,
     "metadata": {},
     "output_type": "execute_result"
    }
   ],
   "source": [
    "comment_box[0].find_all(\"div\",{\"class\" : \"\"})[0].text"
   ]
  },
  {
   "cell_type": "code",
   "execution_count": 149,
   "id": "d9d00ee5-cb15-44db-b4ae-72a725aa5254",
   "metadata": {},
   "outputs": [
    {
     "name": "stdout",
     "output_type": "stream",
     "text": [
      "Nice picture quality.......\n",
      "Excellent Picture Quality\n",
      "Good picture,good sound\n",
      "Good product but the TV. But no voice search options.no assistant.\n",
      "Recommended to buy.....\n",
      "Good product ******\n",
      "Picture clarity super\n",
      "Totally worth it\n",
      "Amazing Quality Product\n",
      "Nice picture quality,Sound quality could be better,Delivery and installation was on time.Overall product is awesome and we are really enjoying..\n"
     ]
    },
    {
     "ename": "IndexError",
     "evalue": "list index out of range",
     "output_type": "error",
     "traceback": [
      "\u001b[1;31m---------------------------------------------------------------------------\u001b[0m",
      "\u001b[1;31mIndexError\u001b[0m                                Traceback (most recent call last)",
      "Cell \u001b[1;32mIn[149], line 3\u001b[0m\n\u001b[0;32m      1\u001b[0m \u001b[38;5;66;03m#fetching the comments of reviews\u001b[39;00m\n\u001b[0;32m      2\u001b[0m \u001b[38;5;28;01mfor\u001b[39;00m i \u001b[38;5;129;01min\u001b[39;00m comment_box:\n\u001b[1;32m----> 3\u001b[0m     \u001b[38;5;28mprint\u001b[39m(i\u001b[38;5;241m.\u001b[39mfind_all(\u001b[38;5;124m\"\u001b[39m\u001b[38;5;124mdiv\u001b[39m\u001b[38;5;124m\"\u001b[39m,{\u001b[38;5;124m\"\u001b[39m\u001b[38;5;124mclass\u001b[39m\u001b[38;5;124m\"\u001b[39m : \u001b[38;5;124m\"\u001b[39m\u001b[38;5;124m\"\u001b[39m})[\u001b[38;5;241m0\u001b[39m]\u001b[38;5;241m.\u001b[39mtext)\n",
      "\u001b[1;31mIndexError\u001b[0m: list index out of range"
     ]
    }
   ],
   "source": [
    "#fetching the comments of reviews\n",
    "for i in comment_box:\n",
    "    print(i.find_all(\"div\",{\"class\" : \"\"})[0].text)"
   ]
  },
  {
   "cell_type": "code",
   "execution_count": null,
   "id": "7463c6c8-b578-470c-a888-a5a5d6b6f730",
   "metadata": {},
   "outputs": [],
   "source": []
  }
 ],
 "metadata": {
  "kernelspec": {
   "display_name": "Python [conda env:base] *",
   "language": "python",
   "name": "conda-base-py"
  },
  "language_info": {
   "codemirror_mode": {
    "name": "ipython",
    "version": 3
   },
   "file_extension": ".py",
   "mimetype": "text/x-python",
   "name": "python",
   "nbconvert_exporter": "python",
   "pygments_lexer": "ipython3",
   "version": "3.13.5"
  }
 },
 "nbformat": 4,
 "nbformat_minor": 5
}
